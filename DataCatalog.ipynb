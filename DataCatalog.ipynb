{
  "nbformat": 4,
  "nbformat_minor": 0,
  "metadata": {
    "colab": {
      "provenance": [],
      "collapsed_sections": [],
      "authorship_tag": "ABX9TyMqLuSglsr4nVNbBWx+smSV",
      "include_colab_link": true
    },
    "kernelspec": {
      "name": "python3",
      "display_name": "Python 3"
    },
    "language_info": {
      "name": "python"
    },
    "accelerator": "GPU"
  },
  "cells": [
    {
      "cell_type": "markdown",
      "metadata": {
        "id": "view-in-github",
        "colab_type": "text"
      },
      "source": [
        "<a href=\"https://colab.research.google.com/github/karasu1982/DataCatalog/blob/main/DataCatalog.ipynb\" target=\"_parent\"><img src=\"https://colab.research.google.com/assets/colab-badge.svg\" alt=\"Open In Colab\"/></a>"
      ]
    },
    {
      "cell_type": "markdown",
      "source": [
        "# 環境設定"
      ],
      "metadata": {
        "id": "QZr_BbDG334q"
      }
    },
    {
      "cell_type": "code",
      "source": [
        "!pip install --upgrade google-cloud-datacatalog"
      ],
      "metadata": {
        "id": "6b7aoS-R35AR"
      },
      "execution_count": null,
      "outputs": []
    },
    {
      "cell_type": "code",
      "source": [
        "import os\n",
        "os.environ['GOOGLE_APPLICATION_CREDENTIALS'] = '<作成したJSONファイルの場所>'"
      ],
      "metadata": {
        "id": "EZpvKE8U38lS"
      },
      "execution_count": null,
      "outputs": []
    },
    {
      "cell_type": "code",
      "source": [
        "from google.cloud import datacatalog_v1\n",
        "\n",
        "datacatalog_client = datacatalog_v1.DataCatalogClient()\n",
        "\n",
        "PROJECT = \"<プロジェクト名>\"\n",
        "DATASET = \"<データセット名>\"\n",
        "location = \"us-central1\" # ロケーション\n",
        "\n",
        "tag_template_id = \"tag_test\" # 利用するタグ"
      ],
      "metadata": {
        "id": "9s3a8e8-4iVl"
      },
      "execution_count": null,
      "outputs": []
    },
    {
      "cell_type": "markdown",
      "source": [
        "# 処理関数"
      ],
      "metadata": {
        "id": "vBcvjN-S41VT"
      }
    },
    {
      "cell_type": "markdown",
      "source": [
        "## タグを新規作成"
      ],
      "metadata": {
        "id": "WJPH6LB05Rhd"
      }
    },
    {
      "cell_type": "code",
      "source": [
        "tag_template = datacatalog_v1.types.TagTemplate()\n",
        "\n",
        "# テンプレートの詳細\n",
        "tag_template.display_name = \"Demo Tag Template\"\n",
        "\n",
        "# フィールド\n",
        "tag_template.fields[\"source\"] = datacatalog_v1.types.TagTemplateField()\n",
        "tag_template.fields[\"source\"].display_name = \"Source of data asset\" #表示名\n",
        "tag_template.fields[\"source\"].type_.primitive_type = datacatalog_v1.types.FieldType.PrimitiveType.STRING #データ型\n",
        "\n",
        "tag_template.fields[\"num_rows\"] = datacatalog_v1.types.TagTemplateField()\n",
        "tag_template.fields[\"num_rows\"].display_name = \"Number of rows in data asset\"\n",
        "tag_template.fields[\"num_rows\"].type_.primitive_type = datacatalog_v1.types.FieldType.PrimitiveType.DOUBLE\n",
        "\n",
        "tag_template.fields[\"has_pii\"] = datacatalog_v1.types.TagTemplateField()\n",
        "tag_template.fields[\"has_pii\"].display_name = \"Has PII\"\n",
        "tag_template.fields[\"has_pii\"].type_.primitive_type = datacatalog_v1.types.FieldType.PrimitiveType.BOOL\n",
        "\n",
        "tag_template.fields[\"pii_type\"] = datacatalog_v1.types.TagTemplateField()\n",
        "tag_template.fields[\"pii_type\"].display_name = \"PII type\"\n",
        "\n",
        "# 種類がENUMの場合、選択する値を記述\n",
        "for display_name in [\"EMAIL\", \"SOCIAL SECURITY NUMBER\", \"NONE\"]:\n",
        "    enum_value = datacatalog_v1.types.FieldType.EnumType.EnumValue(\n",
        "        display_name=display_name\n",
        "    )\n",
        "    tag_template.fields[\"pii_type\"].type_.enum_type.allowed_values.append(\n",
        "        enum_value\n",
        "    )\n",
        "\n",
        "expected_template_name = datacatalog_v1.DataCatalogClient.tag_template_path(\n",
        "    PROJECT, location, tag_template_id\n",
        ")"
      ],
      "metadata": {
        "id": "B1k4AW3w4239"
      },
      "execution_count": null,
      "outputs": []
    },
    {
      "cell_type": "code",
      "source": [
        "try:\n",
        "    tag_template = datacatalog_client.create_tag_template(\n",
        "        parent=f\"projects/{PROJECT}/locations/{location}\",\n",
        "        tag_template_id=tag_template_id,\n",
        "        tag_template=tag_template,\n",
        "    )\n",
        "    print(f\"Created template: {tag_template.name}\")\n",
        "    \n",
        "except OSError as e:\n",
        "    print(f\"Cannot create template: {expected_template_name}\")\n",
        "    print(f\"{e}\")"
      ],
      "metadata": {
        "id": "-UUGzROG5HqB"
      },
      "execution_count": null,
      "outputs": []
    },
    {
      "cell_type": "markdown",
      "source": [
        "## 作成したタグに情報を付与"
      ],
      "metadata": {
        "id": "A3coOqtJ5XFM"
      }
    },
    {
      "cell_type": "code",
      "source": [
        "# タグを付与するテーブルを指定\n",
        "\n",
        "resource_name = (\n",
        "    f\"//bigquery.googleapis.com/projects/{PROJECT}\"\n",
        "    f\"/datasets/{DATASET}/tables/{TABLE}\"\n",
        ")\n",
        "table_entry = datacatalog_client.lookup_entry(\n",
        "    request={\"linked_resource\": resource_name}\n",
        ")"
      ],
      "metadata": {
        "id": "i2ar-KDq5aKN"
      },
      "execution_count": null,
      "outputs": []
    },
    {
      "cell_type": "code",
      "source": [
        "# タグに入力する情報\n",
        "tag = datacatalog_v1.types.Tag()\n",
        "\n",
        "tag.template = tag_template.name\n",
        "tag.name = \"my_super_cool_tag\"\n",
        "\n",
        "tag.fields[\"source\"] = datacatalog_v1.types.TagField()\n",
        "tag.fields[\"source\"].string_value = \"Copied from tlc_yellow_trips_2018\"\n",
        "\n",
        "tag.fields[\"num_rows\"] = datacatalog_v1.types.TagField()\n",
        "tag.fields[\"num_rows\"].double_value = 113496874\n",
        "\n",
        "tag.fields[\"has_pii\"] = datacatalog_v1.types.TagField()\n",
        "tag.fields[\"has_pii\"].bool_value = False\n",
        "\n",
        "tag.fields[\"pii_type\"] = datacatalog_v1.types.TagField()\n",
        "tag.fields[\"pii_type\"].enum_value.display_name = \"NONE\"\n",
        "\n",
        "# タグの情報を反映\n",
        "tag = datacatalog_client.create_tag(parent=table_entry.name, tag=tag)"
      ],
      "metadata": {
        "id": "9tMFjuCD5a47"
      },
      "execution_count": null,
      "outputs": []
    },
    {
      "cell_type": "markdown",
      "source": [
        "## 作成したTagを他のテーブルに付与"
      ],
      "metadata": {
        "id": "xIzdhzRl5oJK"
      }
    },
    {
      "cell_type": "code",
      "source": [
        "TABLE = \"<付与するテーブル名>\""
      ],
      "metadata": {
        "id": "mQUUWO3m5sl1"
      },
      "execution_count": null,
      "outputs": []
    },
    {
      "cell_type": "code",
      "source": [
        "# タグを付与するテーブルを指定\n",
        "\n",
        "resource_name = (\n",
        "    f\"//bigquery.googleapis.com/projects/{PROJECT}\"\n",
        "    f\"/datasets/{DATASET}/tables/{TABLE}\"\n",
        ")\n",
        "table_entry = datacatalog_client.lookup_entry(\n",
        "    request={\"linked_resource\": resource_name}\n",
        ")"
      ],
      "metadata": {
        "id": "gXDQYuCT5qOE"
      },
      "execution_count": null,
      "outputs": []
    },
    {
      "cell_type": "code",
      "source": [
        "# タグに入力する情報\n",
        "tag = datacatalog_v1.types.Tag()\n",
        "\n",
        "tag.template = \"projects/truedata-sandbox/locations/us-central1/tagTemplates/test\"\n",
        "tag.name = \"my_super_cool_tag\"\n",
        "\n",
        "tag.fields[\"source\"] = datacatalog_v1.types.TagField()\n",
        "tag.fields[\"source\"].string_value = \"Copied from tlc_yellow_trips_2018\"\n",
        "\n",
        "tag.fields[\"num_rows\"] = datacatalog_v1.types.TagField()\n",
        "tag.fields[\"num_rows\"].double_value = 113496874\n",
        "\n",
        "tag.fields[\"has_pii\"] = datacatalog_v1.types.TagField()\n",
        "tag.fields[\"has_pii\"].bool_value = False\n",
        "\n",
        "tag.fields[\"pii_type\"] = datacatalog_v1.types.TagField()\n",
        "tag.fields[\"pii_type\"].enum_value.display_name = \"NONE\"\n",
        "\n",
        "# タグの情報を反映\n",
        "tag = datacatalog_client.create_tag(parent=table_entry.name, tag=tag)"
      ],
      "metadata": {
        "id": "c-iy0CqL5v_q"
      },
      "execution_count": null,
      "outputs": []
    }
  ]
}